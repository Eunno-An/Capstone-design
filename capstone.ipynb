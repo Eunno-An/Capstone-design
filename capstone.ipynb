{
  "nbformat": 4,
  "nbformat_minor": 0,
  "metadata": {
    "colab": {
      "name": "Untitled1.ipynb",
      "provenance": [],
      "include_colab_link": true
    },
    "kernelspec": {
      "name": "python3",
      "display_name": "Python 3"
    }
  },
  "cells": [
    {
      "cell_type": "markdown",
      "metadata": {
        "id": "view-in-github",
        "colab_type": "text"
      },
      "source": [
        "<a href=\"https://colab.research.google.com/github/Eunno-An/Capstone-design/blob/master/capstone.ipynb\" target=\"_parent\"><img src=\"https://colab.research.google.com/assets/colab-badge.svg\" alt=\"Open In Colab\"/></a>"
      ]
    },
    {
      "cell_type": "markdown",
      "metadata": {
        "id": "K0xWQ-X2aN76",
        "colab_type": "text"
      },
      "source": [
        "https://www.researchgate.net/post/updated_list_of_Covid-19_dataset_and_other_Research_Resources<br>\n",
        "COVID 19 관련 데이터 셋 모음입니다. 총 29개의 데이터 셋이 존재합니다.\n",
        "\n",
        "1. https://github.com/ieee8023/covid-chestxray-dataset\n",
        "- 코로나 기반 바이러스에 의해 생기는 질병(SARS, MERS)에 COVID19을 추가하여 데이터를 구성하였습니다. \n",
        "\n",
        "2. https://github.com/CSSEGISandData/COVID-19.\n",
        "- 이 데이터 셋은 매일 WHO가 코로나 바이러스에 대해서 보고하는 메타 데이터를 포함하고 있습니다.즉, 시계열 데이터로써 저희의 주제와는 상관이 없을 거 같습니다.\n",
        "\n",
        "3. https://www.kaggle.com/allen-institute-for-ai/CORD-19-research-challenge\n",
        "- 이 데이터 셋은 의료계가 중요도가 높은 코로나 바이러스와 관련된 질문에 우선적으로 답변하기 위해 **질문에 대한 우선 순위를 배정**하는 텍스트 마이닝 + 데이터 마이닝을 위한것입니다. 따라서 저희의 주제와는 상관 없습니다.\n",
        "\n",
        "4. https://pages.semanticscholar.org/coronavirus-research\n",
        "- 정확히 어떤 데이터 셋인지는 나와있지는 않지만 결국은 자연어 처리(NLP)를 위한 데이터셋은 확실합니다. 따라서 저희의 주제와는 상관 없습니다.\n",
        "\n",
        "5. https://www.pyimagesearch.com/2020/03/16/detecting-covid-19-in-x-ray-images-with-keras-tensorflow-and-deep-learning/\n",
        "- 이 링크는 Keras, TensorFlow 및 Deep Learning를 사용하여 X- 선 이미지 데이터 셋에서 COVID-19를 자동으로 감지하는 방법을 알려주고 있습니다. 데이터 셋은 1번의 것을 사용하였습니다. 특히 이 링크는 처음부터 끝까지 읽어보는 것을 추천하고 싶습니다. 저희가 사용해야하는 라이브러리를 기반으로 **COVID19인지 아닌지**를 데이터의 전처리, 아키텍쳐의 구성, 그리고 아키텍쳐 평가까지 자세하게 설명해주고 있습니다. 이 경우 task는 **classification**입니다.\n",
        "\n",
        "6. https://www.kaggle.com/datasets\n",
        "- 링크에는 2개의 데이터 셋이 존재합니다. 첫번째는 메타 데이터를 통해 COVID19가 미래에 얼마나 더 퍼질지, 사망자가 얼마나 생길지에 대해서 분석하는 것입니다. 두번째는 3번 데이터 셋과 동일합니다. 저희와 상관없는 주제입니다.\n",
        "\n",
        "7. https://www.arcgis.com/apps/opsdashboard/index.html#/bda7594740fd40299423467b48e9ecf6\n",
        "- 이것은 데이터 셋이라기 보다는 Jonhs Hopkins 대학에서 제공하는 현재 전세계의 COVID19가 얼마나 확산되었는 지 실시간으로 알 수 있는 사이트입니다. 저희와 상관없는 주제입니다.\n",
        "\n",
        "8. https://data.humdata.org/dataset/novel-coronavirus-2019-ncov-cases\n",
        "- 2020년 1월 22일부터 지금까지 COVID19와 관련된 정보를 시계열 데이터 형태로 제공하였습니다. 저희와 상관없는 주제입니다.\n",
        "\n",
        "9. https://datasetsearch.research.google.com/\n",
        "- 그냥 데이터 셋 검색 사이트입니다. 여기서 필요한거 있으면 더 검색해서 찾으면 될 거 같습니다.\n",
        "\n",
        "10. https://cran.r-project.org/web/packages/coronavirus/index.html\n",
        "- Jonhs Hopkins 대학에서 지금까지 COVID19와 관련된 정보를 시계열 데이터 형태로 제공하였습니다. 저희와 상관없는 주제입니다.\n",
        "\n",
        "11. https://zenodo.org/search?page=1&size=20&q=covid-19%20OR%20%22SARS%20CoV%202%22&type=dataset&access_right=open\n",
        "- COVID19의 최적의 백신을 찾기위한 데이터 셋입니다. 이러한 task를 chemical deep learning이라고 하는 데 분자식이나 반응 결과를 보고 해당 백신이나 신약이 타겟으로 삼은 질병에 얼마나 영향을 끼칠 것이며 인간에게 어떤 부작용이 생길 것인가에 대한 연구 중에 하나입니다. 저희와 상관없는 주제입니다.\n",
        "\n",
        "12. https://www.kaggle.com/sudalairajkumar/novel-corona-virus-2019-dataset\n",
        "- 이 역시 시계열 데이터입니다. 저희와 상관없는 주제입니다.\n",
        "\n",
        "13. https://www.kaggle.com/smid80/coronavirus-covid19-tweets\n",
        "- #coronavirus, #coronavirusoutbreak, #coronavirusPandemic, #covid19, #covid_19, #epitwitter, #ihavecorona의 키워드를 통해 얻은 트위터 문장, 계정의 위치 데이터입니다. 대체 뭘하려는 건지는 모르겠는데 저희와 상관없는 주제입니다.\n",
        "\n",
        "14. https://github.com/closedloop-ai/cv19index\n",
        "- 메타데이터 형식으로 되어 있습니다. 저희와 상관없는 주제입니다.\n",
        "\n",
        "15. https://github.com/ThisIsIsaac/COVID-19_Korea_Dataset\n",
        "- 한국의 서울의 환자 데이터를 시각화하는 프로젝트입니다. 저희와 상관없는 주제입니다.\n",
        "\n",
        "16. https://github.com/willhaslett/covid-19-growth\n",
        "- 메타데이터 형식으로 되어 있습니다. 저희와 상관없는 주제입니다.\n",
        "\n",
        "17. https://www.kaggle.com/paultimothymooney/coronavirus-genome-sequence\n",
        "- 세상에 뜬금없이 COVID19의 RNA 구조를 1개를 보여주고 끝입니다. 확인 결과 게놈 분석 지도를 만드는 것이 목표라고 합니다. 저희와 상관없는 주제입니다.\n",
        "\n",
        "18. http://open-source-covid-19.weileizeng.com/world\n",
        "- COVID19 관련 오픈 소스 데이터 셋을 모았는데 이중에서 유일하게 이미지 관련 데이터를 1개 찾았습니다. 근데 그게 1번 데이터입니다. 볼 필요 없습니다. 나머지는 지도, 확산세의 추정과 관련된 데이터 셋입니다.\n",
        "\n",
        "19. https://github.com/midas-network/COVID-19\n",
        "- 메타데이터 형식으로 되어 있습니다. 저희와 상관없는 주제입니다.\n",
        "\n",
        "20. https://www.mohfw.gov.in/\n",
        "- 인도 현황과 이것저것하는 거 같은데 너무 많네요. 뭘하는 건지도 모르겠습니다.\n",
        "\n",
        "21. https://www.worldometers.info/coronavirus/\n",
        "- 전세계의 확산세를 보여주는 사이트입니다. 저희와 상관없는 주제입니다.\n",
        "\n",
        "22. https://www.coronatracker.com/analytics\n",
        "- 7번 사이트랑 비슷합니다.\n",
        "\n",
        "23. https://www.bing.com/covid\n",
        "- 이건 그냥 bing이라는 사이트에 covid라고 검색한 겁니다. 그랬더니 현황이 나오네요.\n",
        "\n",
        "24. https://pages.semanticscholar.org/coronavirus-research\n",
        "- 3번 데이터의 진짜 출처 사이트입니다. 저희와 상관없는 주제입니다.\n",
        "\n",
        "25. https://github.com/lindawangg/COVID-Net\n",
        "- 공개 소스이며 일반인이 이용할 수있는 흉부 방사선 사진에서 COVID-19 사례를 감지하기 위해 고안된 심층 컨볼 루션 신경망 설계 인 COVID-Net을 소개합니다. 또한 COVIDx라고하는 COVID-Net 훈련에 활용 된 흉부 방사선 촬영 데이터 세트에 대해 설명하며, 2 개의 오픈 액세스 데이터 리포지토리에서 13,645 명의 환자 사례에 걸쳐 16,756 개의 흉부 방사선 촬영 이미지로 구성됩니다. 역시 중국입니다. 데이터 크기도 크네요. 다시 보니까 2개의 데이터 셋을 한개로 합쳤네요. 1개는 1번 데이터셋을 사용했고 나머지는 https://www.kaggle.com/c/rsna-pneumonia-detection-challenge 의 폐렴 진단 챌린지 데이터 셋을 사용했네요. 그래서 여기 결론이 지네들이 COVID 19을 판별할 수 있는 CNN기반 네트워크를 만들었다는 건데 데이터 불균형이 너무 심하고 왜 폐렴 데이터 셋을 썻는지 모르겠네요. \n",
        "\n",
        "26. https://www.medrxiv.org/content/10.1101/2020.02.14.20023028v3.full.pdf\n",
        "- 1200개 정도의 환자 폐의 CT 데이터 셋을 통해 네트워크를 제안했다고 합니다.\n",
        "\n",
        "27. https://towardsdatascience.com/covid-19-imaging-dataset-chest-xray-ct-for-annotation-collaboration-5f6e076f5f22\n",
        "- 이거 읽을려면 돈내야 되요.\n",
        "\n",
        "28. http://medicalsegmentation.com/covid19/\n",
        "- 세상에 저희가 드디어 segmentation 데이터 셋을 찾았습니다. 하지만 CT 데이터입니다. 보통 CT 데이터는 3D으로 구성됩니다. 가로 X 세로 X CT를 통해 자른 사진의 개수입니다. 근데 제가 CT 데이터는 안다뤄봐서 잘은 모르겠습니다. 물론 강제로 2D로 바꿀 수는 있습니다. CT를 통해 자른 사진의 개수만큼 싹 다 쪼개버리는 거죠. 그러면 여기서 원래 데이터가 10장이였는데 100번 잘랐으니까 1000개의 데이터를 얻을 수 있습니다. 참고로 테스트 데이터셋은 10번 잘랐답니다. 그러니까 100개의 데이터 셋이라고 볼 수 있겠죠. 추가적으로 검증 데이터 셋도 있는데 만약 이거까지 훈련 데이터 셋으로 써버리면 1100개 정도로 학습은 할 수 있습니다. **만약 저희가 COVID19로 밀고 나갈꺼면 이 데이터셋이 제일 중요한 거 같습니다.**\n",
        "\n",
        "29. https://github.com/CSSEGISandData/COVID-19/issues/576\n",
        "- 딱히 필요없습니다.\n"
      ]
    },
    {
      "cell_type": "code",
      "metadata": {
        "id": "VNgCLwYy3CFF",
        "colab_type": "code",
        "colab": {
          "base_uri": "https://localhost:8080/",
          "height": 140
        },
        "outputId": "ae57fd53-dfdd-4338-e97c-3142efc44f9d"
      },
      "source": [
        "!git clone https://github.com/jcreinhold/intensity-normalization.git"
      ],
      "execution_count": 2,
      "outputs": [
        {
          "output_type": "stream",
          "text": [
            "Cloning into 'intensity-normalization'...\n",
            "remote: Enumerating objects: 96, done.\u001b[K\n",
            "remote: Counting objects: 100% (96/96), done.\u001b[K\n",
            "remote: Compressing objects: 100% (91/91), done.\u001b[K\n",
            "remote: Total 1128 (delta 51), reused 49 (delta 4), pack-reused 1032\u001b[K\n",
            "Receiving objects: 100% (1128/1128), 1.01 MiB | 15.14 MiB/s, done.\n",
            "Resolving deltas: 100% (786/786), done.\n"
          ],
          "name": "stdout"
        }
      ]
    },
    {
      "cell_type": "code",
      "metadata": {
        "id": "O7rhuRxmaTPp",
        "colab_type": "code",
        "colab": {
          "base_uri": "https://localhost:8080/",
          "height": 1000
        },
        "outputId": "045347ab-52b8-4df4-a523-8bc7ae7c1361"
      },
      "source": [
        "!python setup.py install"
      ],
      "execution_count": 15,
      "outputs": [
        {
          "output_type": "stream",
          "text": [
            "running install\n",
            "running bdist_egg\n",
            "running egg_info\n",
            "creating intensity_normalization.egg-info\n",
            "writing intensity_normalization.egg-info/PKG-INFO\n",
            "writing dependency_links to intensity_normalization.egg-info/dependency_links.txt\n",
            "writing entry points to intensity_normalization.egg-info/entry_points.txt\n",
            "writing top-level names to intensity_normalization.egg-info/top_level.txt\n",
            "writing manifest file 'intensity_normalization.egg-info/SOURCES.txt'\n",
            "writing manifest file 'intensity_normalization.egg-info/SOURCES.txt'\n",
            "installing library code to build/bdist.linux-x86_64/egg\n",
            "running install_lib\n",
            "running build_py\n",
            "creating build\n",
            "creating build/lib\n",
            "creating build/lib/intensity_normalization\n",
            "copying intensity_normalization/errors.py -> build/lib/intensity_normalization\n",
            "copying intensity_normalization/__init__.py -> build/lib/intensity_normalization\n",
            "creating build/lib/intensity_normalization/utilities\n",
            "copying intensity_normalization/utilities/quality.py -> build/lib/intensity_normalization/utilities\n",
            "copying intensity_normalization/utilities/preprocess.py -> build/lib/intensity_normalization/utilities\n",
            "copying intensity_normalization/utilities/mask.py -> build/lib/intensity_normalization/utilities\n",
            "copying intensity_normalization/utilities/hist.py -> build/lib/intensity_normalization/utilities\n",
            "copying intensity_normalization/utilities/__init__.py -> build/lib/intensity_normalization/utilities\n",
            "copying intensity_normalization/utilities/csf.py -> build/lib/intensity_normalization/utilities\n",
            "copying intensity_normalization/utilities/io.py -> build/lib/intensity_normalization/utilities\n",
            "creating build/lib/intensity_normalization/plot\n",
            "copying intensity_normalization/plot/quality.py -> build/lib/intensity_normalization/plot\n",
            "copying intensity_normalization/plot/hist.py -> build/lib/intensity_normalization/plot\n",
            "copying intensity_normalization/plot/__init__.py -> build/lib/intensity_normalization/plot\n",
            "creating build/lib/intensity_normalization/exec\n",
            "copying intensity_normalization/exec/preprocess.py -> build/lib/intensity_normalization/exec\n",
            "copying intensity_normalization/exec/ws_normalize.py -> build/lib/intensity_normalization/exec\n",
            "copying intensity_normalization/exec/gmm_normalize.py -> build/lib/intensity_normalization/exec\n",
            "copying intensity_normalization/exec/plot_hists.py -> build/lib/intensity_normalization/exec\n",
            "copying intensity_normalization/exec/__init__.py -> build/lib/intensity_normalization/exec\n",
            "copying intensity_normalization/exec/tissue_mask.py -> build/lib/intensity_normalization/exec\n",
            "copying intensity_normalization/exec/norm_quality.py -> build/lib/intensity_normalization/exec\n",
            "copying intensity_normalization/exec/zscore_normalize.py -> build/lib/intensity_normalization/exec\n",
            "copying intensity_normalization/exec/fcm_normalize.py -> build/lib/intensity_normalization/exec\n",
            "copying intensity_normalization/exec/lsq_normalize.py -> build/lib/intensity_normalization/exec\n",
            "copying intensity_normalization/exec/kde_normalize.py -> build/lib/intensity_normalization/exec\n",
            "copying intensity_normalization/exec/nyul_normalize.py -> build/lib/intensity_normalization/exec\n",
            "copying intensity_normalization/exec/ravel_normalize.py -> build/lib/intensity_normalization/exec\n",
            "copying intensity_normalization/exec/coregister.py -> build/lib/intensity_normalization/exec\n",
            "creating build/lib/intensity_normalization/normalize\n",
            "copying intensity_normalization/normalize/lsq.py -> build/lib/intensity_normalization/normalize\n",
            "copying intensity_normalization/normalize/whitestripe.py -> build/lib/intensity_normalization/normalize\n",
            "copying intensity_normalization/normalize/ravel.py -> build/lib/intensity_normalization/normalize\n",
            "copying intensity_normalization/normalize/gmm.py -> build/lib/intensity_normalization/normalize\n",
            "copying intensity_normalization/normalize/__init__.py -> build/lib/intensity_normalization/normalize\n",
            "copying intensity_normalization/normalize/fcm.py -> build/lib/intensity_normalization/normalize\n",
            "copying intensity_normalization/normalize/kde.py -> build/lib/intensity_normalization/normalize\n",
            "copying intensity_normalization/normalize/zscore.py -> build/lib/intensity_normalization/normalize\n",
            "copying intensity_normalization/normalize/nyul.py -> build/lib/intensity_normalization/normalize\n",
            "creating build/bdist.linux-x86_64\n",
            "creating build/bdist.linux-x86_64/egg\n",
            "creating build/bdist.linux-x86_64/egg/intensity_normalization\n",
            "creating build/bdist.linux-x86_64/egg/intensity_normalization/utilities\n",
            "copying build/lib/intensity_normalization/utilities/quality.py -> build/bdist.linux-x86_64/egg/intensity_normalization/utilities\n",
            "copying build/lib/intensity_normalization/utilities/preprocess.py -> build/bdist.linux-x86_64/egg/intensity_normalization/utilities\n",
            "copying build/lib/intensity_normalization/utilities/mask.py -> build/bdist.linux-x86_64/egg/intensity_normalization/utilities\n",
            "copying build/lib/intensity_normalization/utilities/hist.py -> build/bdist.linux-x86_64/egg/intensity_normalization/utilities\n",
            "copying build/lib/intensity_normalization/utilities/__init__.py -> build/bdist.linux-x86_64/egg/intensity_normalization/utilities\n",
            "copying build/lib/intensity_normalization/utilities/csf.py -> build/bdist.linux-x86_64/egg/intensity_normalization/utilities\n",
            "copying build/lib/intensity_normalization/utilities/io.py -> build/bdist.linux-x86_64/egg/intensity_normalization/utilities\n",
            "copying build/lib/intensity_normalization/errors.py -> build/bdist.linux-x86_64/egg/intensity_normalization\n",
            "creating build/bdist.linux-x86_64/egg/intensity_normalization/plot\n",
            "copying build/lib/intensity_normalization/plot/quality.py -> build/bdist.linux-x86_64/egg/intensity_normalization/plot\n",
            "copying build/lib/intensity_normalization/plot/hist.py -> build/bdist.linux-x86_64/egg/intensity_normalization/plot\n",
            "copying build/lib/intensity_normalization/plot/__init__.py -> build/bdist.linux-x86_64/egg/intensity_normalization/plot\n",
            "copying build/lib/intensity_normalization/__init__.py -> build/bdist.linux-x86_64/egg/intensity_normalization\n",
            "creating build/bdist.linux-x86_64/egg/intensity_normalization/exec\n",
            "copying build/lib/intensity_normalization/exec/preprocess.py -> build/bdist.linux-x86_64/egg/intensity_normalization/exec\n",
            "copying build/lib/intensity_normalization/exec/ws_normalize.py -> build/bdist.linux-x86_64/egg/intensity_normalization/exec\n",
            "copying build/lib/intensity_normalization/exec/gmm_normalize.py -> build/bdist.linux-x86_64/egg/intensity_normalization/exec\n",
            "copying build/lib/intensity_normalization/exec/plot_hists.py -> build/bdist.linux-x86_64/egg/intensity_normalization/exec\n",
            "copying build/lib/intensity_normalization/exec/__init__.py -> build/bdist.linux-x86_64/egg/intensity_normalization/exec\n",
            "copying build/lib/intensity_normalization/exec/tissue_mask.py -> build/bdist.linux-x86_64/egg/intensity_normalization/exec\n",
            "copying build/lib/intensity_normalization/exec/norm_quality.py -> build/bdist.linux-x86_64/egg/intensity_normalization/exec\n",
            "copying build/lib/intensity_normalization/exec/zscore_normalize.py -> build/bdist.linux-x86_64/egg/intensity_normalization/exec\n",
            "copying build/lib/intensity_normalization/exec/fcm_normalize.py -> build/bdist.linux-x86_64/egg/intensity_normalization/exec\n",
            "copying build/lib/intensity_normalization/exec/lsq_normalize.py -> build/bdist.linux-x86_64/egg/intensity_normalization/exec\n",
            "copying build/lib/intensity_normalization/exec/kde_normalize.py -> build/bdist.linux-x86_64/egg/intensity_normalization/exec\n",
            "copying build/lib/intensity_normalization/exec/nyul_normalize.py -> build/bdist.linux-x86_64/egg/intensity_normalization/exec\n",
            "copying build/lib/intensity_normalization/exec/ravel_normalize.py -> build/bdist.linux-x86_64/egg/intensity_normalization/exec\n",
            "copying build/lib/intensity_normalization/exec/coregister.py -> build/bdist.linux-x86_64/egg/intensity_normalization/exec\n",
            "creating build/bdist.linux-x86_64/egg/intensity_normalization/normalize\n",
            "copying build/lib/intensity_normalization/normalize/lsq.py -> build/bdist.linux-x86_64/egg/intensity_normalization/normalize\n",
            "copying build/lib/intensity_normalization/normalize/whitestripe.py -> build/bdist.linux-x86_64/egg/intensity_normalization/normalize\n",
            "copying build/lib/intensity_normalization/normalize/ravel.py -> build/bdist.linux-x86_64/egg/intensity_normalization/normalize\n",
            "copying build/lib/intensity_normalization/normalize/gmm.py -> build/bdist.linux-x86_64/egg/intensity_normalization/normalize\n",
            "copying build/lib/intensity_normalization/normalize/__init__.py -> build/bdist.linux-x86_64/egg/intensity_normalization/normalize\n",
            "copying build/lib/intensity_normalization/normalize/fcm.py -> build/bdist.linux-x86_64/egg/intensity_normalization/normalize\n",
            "copying build/lib/intensity_normalization/normalize/kde.py -> build/bdist.linux-x86_64/egg/intensity_normalization/normalize\n",
            "copying build/lib/intensity_normalization/normalize/zscore.py -> build/bdist.linux-x86_64/egg/intensity_normalization/normalize\n",
            "copying build/lib/intensity_normalization/normalize/nyul.py -> build/bdist.linux-x86_64/egg/intensity_normalization/normalize\n",
            "byte-compiling build/bdist.linux-x86_64/egg/intensity_normalization/utilities/quality.py to quality.cpython-36.pyc\n",
            "byte-compiling build/bdist.linux-x86_64/egg/intensity_normalization/utilities/preprocess.py to preprocess.cpython-36.pyc\n",
            "byte-compiling build/bdist.linux-x86_64/egg/intensity_normalization/utilities/mask.py to mask.cpython-36.pyc\n",
            "byte-compiling build/bdist.linux-x86_64/egg/intensity_normalization/utilities/hist.py to hist.cpython-36.pyc\n",
            "byte-compiling build/bdist.linux-x86_64/egg/intensity_normalization/utilities/__init__.py to __init__.cpython-36.pyc\n",
            "byte-compiling build/bdist.linux-x86_64/egg/intensity_normalization/utilities/csf.py to csf.cpython-36.pyc\n",
            "byte-compiling build/bdist.linux-x86_64/egg/intensity_normalization/utilities/io.py to io.cpython-36.pyc\n",
            "byte-compiling build/bdist.linux-x86_64/egg/intensity_normalization/errors.py to errors.cpython-36.pyc\n",
            "byte-compiling build/bdist.linux-x86_64/egg/intensity_normalization/plot/quality.py to quality.cpython-36.pyc\n",
            "byte-compiling build/bdist.linux-x86_64/egg/intensity_normalization/plot/hist.py to hist.cpython-36.pyc\n",
            "byte-compiling build/bdist.linux-x86_64/egg/intensity_normalization/plot/__init__.py to __init__.cpython-36.pyc\n",
            "byte-compiling build/bdist.linux-x86_64/egg/intensity_normalization/__init__.py to __init__.cpython-36.pyc\n",
            "byte-compiling build/bdist.linux-x86_64/egg/intensity_normalization/exec/preprocess.py to preprocess.cpython-36.pyc\n",
            "byte-compiling build/bdist.linux-x86_64/egg/intensity_normalization/exec/ws_normalize.py to ws_normalize.cpython-36.pyc\n",
            "byte-compiling build/bdist.linux-x86_64/egg/intensity_normalization/exec/gmm_normalize.py to gmm_normalize.cpython-36.pyc\n",
            "byte-compiling build/bdist.linux-x86_64/egg/intensity_normalization/exec/plot_hists.py to plot_hists.cpython-36.pyc\n",
            "byte-compiling build/bdist.linux-x86_64/egg/intensity_normalization/exec/__init__.py to __init__.cpython-36.pyc\n",
            "byte-compiling build/bdist.linux-x86_64/egg/intensity_normalization/exec/tissue_mask.py to tissue_mask.cpython-36.pyc\n",
            "byte-compiling build/bdist.linux-x86_64/egg/intensity_normalization/exec/norm_quality.py to norm_quality.cpython-36.pyc\n",
            "byte-compiling build/bdist.linux-x86_64/egg/intensity_normalization/exec/zscore_normalize.py to zscore_normalize.cpython-36.pyc\n",
            "byte-compiling build/bdist.linux-x86_64/egg/intensity_normalization/exec/fcm_normalize.py to fcm_normalize.cpython-36.pyc\n",
            "byte-compiling build/bdist.linux-x86_64/egg/intensity_normalization/exec/lsq_normalize.py to lsq_normalize.cpython-36.pyc\n",
            "byte-compiling build/bdist.linux-x86_64/egg/intensity_normalization/exec/kde_normalize.py to kde_normalize.cpython-36.pyc\n",
            "byte-compiling build/bdist.linux-x86_64/egg/intensity_normalization/exec/nyul_normalize.py to nyul_normalize.cpython-36.pyc\n",
            "byte-compiling build/bdist.linux-x86_64/egg/intensity_normalization/exec/ravel_normalize.py to ravel_normalize.cpython-36.pyc\n",
            "byte-compiling build/bdist.linux-x86_64/egg/intensity_normalization/exec/coregister.py to coregister.cpython-36.pyc\n",
            "byte-compiling build/bdist.linux-x86_64/egg/intensity_normalization/normalize/lsq.py to lsq.cpython-36.pyc\n",
            "byte-compiling build/bdist.linux-x86_64/egg/intensity_normalization/normalize/whitestripe.py to whitestripe.cpython-36.pyc\n",
            "byte-compiling build/bdist.linux-x86_64/egg/intensity_normalization/normalize/ravel.py to ravel.cpython-36.pyc\n",
            "byte-compiling build/bdist.linux-x86_64/egg/intensity_normalization/normalize/gmm.py to gmm.cpython-36.pyc\n",
            "byte-compiling build/bdist.linux-x86_64/egg/intensity_normalization/normalize/__init__.py to __init__.cpython-36.pyc\n",
            "byte-compiling build/bdist.linux-x86_64/egg/intensity_normalization/normalize/fcm.py to fcm.cpython-36.pyc\n",
            "byte-compiling build/bdist.linux-x86_64/egg/intensity_normalization/normalize/kde.py to kde.cpython-36.pyc\n",
            "byte-compiling build/bdist.linux-x86_64/egg/intensity_normalization/normalize/zscore.py to zscore.cpython-36.pyc\n",
            "byte-compiling build/bdist.linux-x86_64/egg/intensity_normalization/normalize/nyul.py to nyul.cpython-36.pyc\n",
            "creating build/bdist.linux-x86_64/egg/EGG-INFO\n",
            "copying intensity_normalization.egg-info/PKG-INFO -> build/bdist.linux-x86_64/egg/EGG-INFO\n",
            "copying intensity_normalization.egg-info/SOURCES.txt -> build/bdist.linux-x86_64/egg/EGG-INFO\n",
            "copying intensity_normalization.egg-info/dependency_links.txt -> build/bdist.linux-x86_64/egg/EGG-INFO\n",
            "copying intensity_normalization.egg-info/entry_points.txt -> build/bdist.linux-x86_64/egg/EGG-INFO\n",
            "copying intensity_normalization.egg-info/top_level.txt -> build/bdist.linux-x86_64/egg/EGG-INFO\n",
            "zip_safe flag not set; analyzing archive contents...\n",
            "creating dist\n",
            "creating 'dist/intensity_normalization-1.4.1-py3.6.egg' and adding 'build/bdist.linux-x86_64/egg' to it\n",
            "removing 'build/bdist.linux-x86_64/egg' (and everything under it)\n",
            "Processing intensity_normalization-1.4.1-py3.6.egg\n",
            "Copying intensity_normalization-1.4.1-py3.6.egg to /usr/local/lib/python3.6/dist-packages\n",
            "Adding intensity-normalization 1.4.1 to easy-install.pth file\n",
            "Installing fcm-normalize script to /usr/local/bin\n",
            "Installing gmm-normalize script to /usr/local/bin\n",
            "Installing kde-normalize script to /usr/local/bin\n",
            "Installing lsq-normalize script to /usr/local/bin\n",
            "Installing nyul-normalize script to /usr/local/bin\n",
            "Installing plot-hists script to /usr/local/bin\n",
            "Installing ravel-normalize script to /usr/local/bin\n",
            "Installing ws-normalize script to /usr/local/bin\n",
            "Installing zscore-normalize script to /usr/local/bin\n",
            "\n",
            "Installed /usr/local/lib/python3.6/dist-packages/intensity_normalization-1.4.1-py3.6.egg\n",
            "Processing dependencies for intensity-normalization==1.4.1\n",
            "Finished processing dependencies for intensity-normalization==1.4.1\n"
          ],
          "name": "stdout"
        }
      ]
    },
    {
      "cell_type": "code",
      "metadata": {
        "id": "AmxzWYfEXJ8d",
        "colab_type": "code",
        "colab": {}
      },
      "source": [
        "import os"
      ],
      "execution_count": 0,
      "outputs": []
    },
    {
      "cell_type": "code",
      "metadata": {
        "id": "Yx2XYuWkXQ4L",
        "colab_type": "code",
        "colab": {}
      },
      "source": [
        "os.chdir('intensity-normalization/')"
      ],
      "execution_count": 0,
      "outputs": []
    },
    {
      "cell_type": "code",
      "metadata": {
        "id": "ho2Z7i1UXb1o",
        "colab_type": "code",
        "colab": {
          "base_uri": "https://localhost:8080/",
          "height": 34
        },
        "outputId": "baca9f3a-c0f1-441a-c5cc-b40809dd9f3f"
      },
      "source": [
        "print(os.getcwd())"
      ],
      "execution_count": 13,
      "outputs": [
        {
          "output_type": "stream",
          "text": [
            "/content/intensity-normalization\n"
          ],
          "name": "stdout"
        }
      ]
    },
    {
      "cell_type": "code",
      "metadata": {
        "id": "w8tTdMjmXiTb",
        "colab_type": "code",
        "colab": {
          "base_uri": "https://localhost:8080/",
          "height": 52
        },
        "outputId": "09ff7698-5c5c-48c3-e04e-c0db987b22fd"
      },
      "source": [
        "!ls"
      ],
      "execution_count": 14,
      "outputs": [
        {
          "output_type": "stream",
          "text": [
            "create_env.sh  docs\t\t\tLICENSE    requirements.txt  tests\n",
            "Dockerfile     intensity_normalization\tREADME.md  setup.py\t     tutorials\n"
          ],
          "name": "stdout"
        }
      ]
    },
    {
      "cell_type": "code",
      "metadata": {
        "id": "2jyEelNuXkqQ",
        "colab_type": "code",
        "colab": {
          "base_uri": "https://localhost:8080/",
          "height": 334
        },
        "outputId": "047605a4-bc93-4b9c-c37b-0e392c9b1929"
      },
      "source": [
        "!fcm-normalize -i t1/ -m masks/ -o test_fcm -v"
      ],
      "execution_count": 16,
      "outputs": [
        {
          "output_type": "stream",
          "text": [
            "ERROR! Session/line number was not unique in database. History logging moved to new session 59\n",
            "Traceback (most recent call last):\n",
            "  File \"/usr/local/bin/fcm-normalize\", line 11, in <module>\n",
            "    load_entry_point('intensity-normalization==1.4.1', 'console_scripts', 'fcm-normalize')()\n",
            "  File \"/usr/local/lib/python3.6/dist-packages/pkg_resources/__init__.py\", line 490, in load_entry_point\n",
            "    return get_distribution(dist).load_entry_point(group, name)\n",
            "  File \"/usr/local/lib/python3.6/dist-packages/pkg_resources/__init__.py\", line 2855, in load_entry_point\n",
            "    return ep.load()\n",
            "  File \"/usr/local/lib/python3.6/dist-packages/pkg_resources/__init__.py\", line 2446, in load\n",
            "    return self.resolve()\n",
            "  File \"/usr/local/lib/python3.6/dist-packages/pkg_resources/__init__.py\", line 2452, in resolve\n",
            "    module = __import__(self.module_name, fromlist=['__name__'], level=0)\n",
            "  File \"/usr/local/lib/python3.6/dist-packages/intensity_normalization-1.4.1-py3.6.egg/intensity_normalization/__init__.py\", line 1, in <module>\n",
            "  File \"/usr/local/lib/python3.6/dist-packages/intensity_normalization-1.4.1-py3.6.egg/intensity_normalization/normalize/__init__.py\", line 1, in <module>\n",
            "  File \"/usr/local/lib/python3.6/dist-packages/intensity_normalization-1.4.1-py3.6.egg/intensity_normalization/normalize/fcm.py\", line 25, in <module>\n",
            "  File \"/usr/local/lib/python3.6/dist-packages/intensity_normalization-1.4.1-py3.6.egg/intensity_normalization/utilities/__init__.py\", line 1, in <module>\n",
            "  File \"/usr/local/lib/python3.6/dist-packages/intensity_normalization-1.4.1-py3.6.egg/intensity_normalization/utilities/mask.py\", line 22, in <module>\n",
            "ModuleNotFoundError: No module named 'skfuzzy'\n"
          ],
          "name": "stdout"
        }
      ]
    },
    {
      "cell_type": "code",
      "metadata": {
        "id": "CvkKBplmXsNR",
        "colab_type": "code",
        "colab": {}
      },
      "source": [
        ""
      ],
      "execution_count": 0,
      "outputs": []
    }
  ]
}